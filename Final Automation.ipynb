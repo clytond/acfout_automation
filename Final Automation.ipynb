{
 "cells": [
  {
   "cell_type": "code",
   "execution_count": 1,
   "metadata": {},
   "outputs": [],
   "source": [
    "import pandas as pd\n",
    "import numpy as np\n",
    "import os as os\n",
    "import datetime\n",
    "import fnmatch\n",
    "import calendar\n",
    "import win32com.client\n",
    "from collections import Counter\n",
    "import re"
   ]
  },
  {
   "cell_type": "code",
   "execution_count": 2,
   "metadata": {
    "scrolled": true
   },
   "outputs": [],
   "source": [
    "import pysftp\n",
    "import paramiko\n",
    "\n"
   ]
  },
  {
   "cell_type": "code",
   "execution_count": 3,
   "metadata": {},
   "outputs": [],
   "source": [
    "pd.set_option('display.max_rows', 1000)"
   ]
  },
  {
   "cell_type": "code",
   "execution_count": 4,
   "metadata": {
    "scrolled": true
   },
   "outputs": [
    {
     "data": {
      "text/plain": [
       "'0.2.9'"
      ]
     },
     "execution_count": 4,
     "metadata": {},
     "output_type": "execute_result"
    }
   ],
   "source": [
    "pysftp.__version__"
   ]
  },
  {
   "cell_type": "code",
   "execution_count": 5,
   "metadata": {},
   "outputs": [],
   "source": [
    "#Problem seems to occur if SSH-2.0-paramiko_2.6.0 client is connecting to \n",
    "#SSH-2.0-srtSSHServer_11.00 server and agreed kex is diffie-hellman-group16-sha512.\n",
    "# run this comand for diabling server 512\n",
    "\n",
    "\n",
    "paramiko.Transport._preferred_kex = (        'ecdh-sha2-nistp256',\n",
    "        'ecdh-sha2-nistp384',\n",
    "        'ecdh-sha2-nistp521',\n",
    "        # 'diffie-hellman-group16-sha512',  # disable\n",
    "        'diffie-hellman-group-exchange-sha256',\n",
    "        'diffie-hellman-group14-sha256',\n",
    "        'diffie-hellman-group-exchange-sha1',\n",
    "        'diffie-hellman-group14-sha1',\n",
    "        'diffie-hellman-group1-sha1')\n",
    "\n",
    "\n",
    "# alternatively you can set the prefered kex as below\n",
    "\n",
    "# paramiko.Transport._preferred_kex = ('diffie-hellman-group-exchange-sha256',\n",
    "#                                      'diffie-hellman-group14-sha256',\n",
    "#                                      'diffie-hellman-group-exchange-sha1',\n",
    "#                                      'diffie-hellman-group14-sha1',\n",
    "#                                      'diffie-hellman-group1-sha1')\n"
   ]
  },
  {
   "cell_type": "markdown",
   "metadata": {},
   "source": [
    "#### Alternate Paramiko method"
   ]
  },
  {
   "cell_type": "code",
   "execution_count": 6,
   "metadata": {},
   "outputs": [],
   "source": [
    "client = paramiko.SSHClient()\n",
    "client.set_missing_host_key_policy(paramiko.AutoAddPolicy())\n"
   ]
  },
  {
   "cell_type": "code",
   "execution_count": 7,
   "metadata": {},
   "outputs": [],
   "source": [
    "client.connect( 'crisekftp.emirates.com', username = 'SFTSDII', password = 'Cpeb-yT32f&3')\n",
    "ssh_session = client.get_transport().open_session()"
   ]
  },
  {
   "cell_type": "markdown",
   "metadata": {},
   "source": [
    "#### Pysftp method - Establishing the connection"
   ]
  },
  {
   "cell_type": "code",
   "execution_count": 8,
   "metadata": {},
   "outputs": [],
   "source": [
    "\n",
    "#change the local directory to the path where the files will be stored\n",
    "\n",
    "#os.chdir('//infospace.emirates.com/newsites/Skywards/Sk/Advanced Analytics/Data Strategy')\n",
    "#os.getcwd()"
   ]
  },
  {
   "cell_type": "code",
   "execution_count": 9,
   "metadata": {},
   "outputs": [
    {
     "data": {
      "text/plain": [
       "'\\\\\\\\infospace.emirates.com\\\\newsites\\\\skywards_finance\\\\ACFOUT files'"
      ]
     },
     "execution_count": 9,
     "metadata": {},
     "output_type": "execute_result"
    }
   ],
   "source": [
    "#change the local directoy to the path where the files will be stored\n",
    "# Ensure you have access to this folder - Ask Unnati\n",
    "\n",
    "os.chdir('//infospace.emirates.com/newsites/skywards_finance/ACFOUT files/')\n",
    "os.getcwd()"
   ]
  },
  {
   "cell_type": "code",
   "execution_count": null,
   "metadata": {},
   "outputs": [],
   "source": []
  },
  {
   "cell_type": "code",
   "execution_count": null,
   "metadata": {},
   "outputs": [],
   "source": []
  },
  {
   "cell_type": "code",
   "execution_count": 10,
   "metadata": {},
   "outputs": [],
   "source": [
    "# # TEMP CHANGING LOCAL DIR TO LOCAL MACHINE\n",
    "\n",
    "# #change the local directoy to the path where the files will be stored\n",
    "\n",
    "# os.chdir('C:/Users/S428545/OneDrive - emiratesgroup/Documents/ipython_stuff/skywards-jira/aa_ruchir/acfout_automation/output_files')\n",
    "# os.getcwd()"
   ]
  },
  {
   "cell_type": "code",
   "execution_count": null,
   "metadata": {},
   "outputs": [],
   "source": []
  },
  {
   "cell_type": "code",
   "execution_count": null,
   "metadata": {},
   "outputs": [],
   "source": []
  },
  {
   "cell_type": "code",
   "execution_count": 11,
   "metadata": {},
   "outputs": [
    {
     "data": {
      "text/plain": [
       "['Files Downloaded for 2020',\n",
       " 'FW EIB PAYMENT INVOICE FOR MAY 2013 .msg',\n",
       " 'Forms',\n",
       " 'MARGIN SHARE',\n",
       " 'QF-081',\n",
       " 'Files Downloaded for 2019',\n",
       " 'QF computation',\n",
       " 'Files Downloaded for 2022',\n",
       " 'OAL Invoice Processing.rep',\n",
       " 'Files Downloaded for 2017',\n",
       " 'OAL Invoice Processing (2).rep',\n",
       " 'QF TRFOUT Provision',\n",
       " 'MSRF_ACFOUT_JUL2020.txt',\n",
       " 'QF_Apr13 to Nov14_Billing Summarisation.xlsx',\n",
       " 'NAL Partners',\n",
       " 'SharePoint - ACFOUT - Schedule Site.xlsx',\n",
       " 'Files Downloaded for 2021']"
      ]
     },
     "execution_count": 11,
     "metadata": {},
     "output_type": "execute_result"
    }
   ],
   "source": [
    "# number of directories before running function\n",
    "\n",
    "os.listdir(os.getcwd())"
   ]
  },
  {
   "cell_type": "code",
   "execution_count": 12,
   "metadata": {},
   "outputs": [
    {
     "data": {
      "text/plain": [
       "'./Files Downloaded for 2022'"
      ]
     },
     "execution_count": 12,
     "metadata": {},
     "output_type": "execute_result"
    }
   ],
   "source": [
    "## make a directory within the drive if it does not exist\n",
    "\n",
    "\n",
    "\n",
    "\n",
    "#os.mkdir('./Files Downloaded for {}'.format(date.today().year))\n",
    "\n",
    "def my_folder(curr_dir):\n",
    "    my_date = datetime.date.today().year\n",
    "    if not os.path.exists(curr_dir + 'Files Downloaded for {}'.format(my_date)):\n",
    "        os.mkdir(curr_dir + 'Files Downloaded for {}'.format(my_date))\n",
    "        #curr_dir + 'Files Downloaded for {}'.format(my_date)\n",
    "    return curr_dir + 'Files Downloaded for {}'.format(my_date)\n",
    "    \n",
    "    \n",
    "# create a folder to save all files\n",
    "\n",
    "aa = my_folder('./')\n",
    "\n",
    "str(aa)\n"
   ]
  },
  {
   "cell_type": "code",
   "execution_count": 13,
   "metadata": {},
   "outputs": [
    {
     "data": {
      "text/plain": [
       "'./Files Downloaded for 2022/Files Downloaded on 1 - 2022'"
      ]
     },
     "execution_count": 13,
     "metadata": {},
     "output_type": "execute_result"
    }
   ],
   "source": [
    "## make a directory within the drive if it does not exist\n",
    "\n",
    "#os.mkdir('./Files Downloaded for {}'.format(date.today().year))\n",
    "\n",
    "def my_folder_month(curr_dir):\n",
    "    my_date = str((datetime.date.today().month)) + ' - ' + str(datetime.date.today().year)\n",
    "    if not os.path.exists(curr_dir + str(aa) + '/' + 'Files Downloaded on {}'.format(my_date)):\n",
    "        os.mkdir(curr_dir + str(aa) + '/'  + 'Files Downloaded on {}'.format(my_date))\n",
    "        #curr_dir + 'Files Downloaded for {}'.format(my_date)\n",
    "    return curr_dir + str(aa) + '/'  + 'Files Downloaded on {}'.format(my_date)\n",
    "    \n",
    "    \n",
    "# create a folder to save all files\n",
    "\n",
    "ab = my_folder_month('')\n",
    "\n",
    "str(ab)\n"
   ]
  },
  {
   "cell_type": "code",
   "execution_count": 14,
   "metadata": {},
   "outputs": [
    {
     "name": "stdout",
     "output_type": "stream",
     "text": [
      "curent directories in drive:\n",
      "Files Downloaded on 12 - 2021\n",
      "Files Downloaded on 6 - 2022\n",
      "Files Downloaded on 9 - 2022\n",
      "Files Downloaded on 1 - 2022\n",
      "Files Downloaded on 10 - 2022\n",
      "Files Downloaded on 2 - 2022\n",
      "Files Downloaded on 11 - 2022\n",
      "Files Downloaded on 3 - 2022\n",
      "Files Downloaded on 8 - 2022\n",
      "Files Downloaded on 7 - 2022\n",
      "Files Downloaded on 5 - 2022\n",
      "Files Downloaded on 12 - 2022\n",
      "Files Downloaded on 4 - 2022\n"
     ]
    }
   ],
   "source": [
    "# list files in the current folder\n",
    "\n",
    "print ('curent directories in drive:')\n",
    "print\n",
    "for xx in os.listdir('./' + str(aa)):\n",
    "    print (xx)\n"
   ]
  },
  {
   "cell_type": "markdown",
   "metadata": {},
   "source": [
    "### Connect to the SFTP"
   ]
  },
  {
   "cell_type": "code",
   "execution_count": 15,
   "metadata": {
    "scrolled": true
   },
   "outputs": [
    {
     "name": "stderr",
     "output_type": "stream",
     "text": [
      "C:\\Users\\s428545\\Anaconda3\\lib\\site-packages\\pysftp\\__init__.py:61: UserWarning: Failed to load HostKeys from C:\\Users\\s428545\\.ssh\\known_hosts.  You will need to explicitly load HostKeys (cnopts.hostkeys.load(filename)) or disableHostKey checking (cnopts.hostkeys = None).\n",
      "  warnings.warn(wmsg, UserWarning)\n"
     ]
    }
   ],
   "source": [
    "cnopts = pysftp.CnOpts()\n",
    "cnopts.hostkeys = None"
   ]
  },
  {
   "cell_type": "code",
   "execution_count": 16,
   "metadata": {},
   "outputs": [],
   "source": [
    "# # create ftp credentials\n",
    "\n",
    "\n",
    "# myHost_name = 'hqlinuxbl685'\n",
    "# myUser_name =  'crisuser'\n",
    "# myPasswd =  'crisuser'\n",
    "# my_path = '/cislhome/crisuser/ssp/acfout/'"
   ]
  },
  {
   "cell_type": "code",
   "execution_count": 17,
   "metadata": {},
   "outputs": [],
   "source": [
    "# # create ftp credentials\n",
    "\n",
    "\n",
    "# # New details provided by Jeny - march 2021\n",
    "\n",
    "# myHost_name = 'dolinuxbl685'\n",
    "# myUser_name =  'crisuser'\n",
    "# myPasswd =  'crisuser'\n",
    "# # my_path = '/cislhome/crisuser/ssp/acfout/'\n",
    "\n",
    "# my_path = '/cislhome/crisuser/ssp/acfout/'"
   ]
  },
  {
   "cell_type": "code",
   "execution_count": 18,
   "metadata": {},
   "outputs": [],
   "source": [
    "# # create ftp credentials\n",
    "\n",
    "\n",
    "# # New details provided by Jeny - MAY 2021\n",
    "\n",
    "# # myHost_name = 'doliadpv138.hq.emirates.com'\n",
    "\n",
    "# myHost_name = 'hqliadpv138'\n",
    "# myUser_name =  'crisuser'\n",
    "# myPasswd =  'crisuser'\n",
    "# # my_path = '/cislhome/crisuser/ssp/acfout/'\n",
    "\n",
    "# my_path = '/cislhome/crisuser/ssp/acfout/'"
   ]
  },
  {
   "cell_type": "code",
   "execution_count": null,
   "metadata": {},
   "outputs": [],
   "source": []
  },
  {
   "cell_type": "markdown",
   "metadata": {},
   "source": [
    "# Need SFTP details"
   ]
  },
  {
   "cell_type": "code",
   "execution_count": 1,
   "metadata": {},
   "outputs": [
    {
     "name": "stdin",
     "output_type": "stream",
     "text": [
      "Type in server name within quotation marks eg 'doliadpv138.hq.emirates.com' :  xx\n",
      "Type in your Z ID within quotation marks :  xx\n",
      "Type in your Z password within quotation marks :  xx\n"
     ]
    }
   ],
   "source": [
    "# create ftp credentials as input prompt\n",
    "\n",
    " \n",
    "\n",
    "# myHost_name = 'doliadpv138.hq.emirates.com'\n",
    "myHost_name =  str(input(\"Type in server name within quotation marks eg 'doliadpv138.hq.emirates.com' : \"))\n",
    "                         \n",
    "myUser_name =  str(input(\"Type in your Z ID within quotation marks : \"))\n",
    "\n",
    "myPasswd =  str(input(\"Type in your Z password within quotation marks : \"))\n",
    "\n",
    "my_path = '/cislhome/crisuser/ssp/acfout/'"
   ]
  },
  {
   "cell_type": "code",
   "execution_count": 20,
   "metadata": {},
   "outputs": [
    {
     "data": {
      "text/plain": [
       "'doliadpv138.hq.emirates.com'"
      ]
     },
     "execution_count": 20,
     "metadata": {},
     "output_type": "execute_result"
    }
   ],
   "source": [
    "myHost_name"
   ]
  },
  {
   "cell_type": "markdown",
   "metadata": {},
   "source": []
  },
  {
   "cell_type": "code",
   "execution_count": null,
   "metadata": {},
   "outputs": [],
   "source": []
  },
  {
   "cell_type": "code",
   "execution_count": 21,
   "metadata": {},
   "outputs": [],
   "source": [
    "# create ftp credentials\n",
    "\n",
    "\n",
    "# New details provided by Varsha/Muna - JUL 2021\n",
    "\n",
    "# myHost_name = 'doliadpv138.hq.emirates.com'\n",
    "\n",
    "# myHost_name = 'DOLIADPV138'\n",
    "# myHost_name_2 = 'HQLIADPV138'"
   ]
  },
  {
   "cell_type": "code",
   "execution_count": 63,
   "metadata": {},
   "outputs": [],
   "source": [
    "# make the connection to the sftp\n",
    "\n",
    "try:\n",
    "    sftp = pysftp.Connection(host= myHost_name, username=  myUser_name, password=  myPasswd, default_path= my_path, cnopts = cnopts )\n",
    "except:\n",
    "    sftp = pysftp.Connection(host= myHost_name_2, username=  myUser_name, password=  myPasswd, default_path= my_path, cnopts = cnopts )"
   ]
  },
  {
   "cell_type": "code",
   "execution_count": 64,
   "metadata": {},
   "outputs": [
    {
     "name": "stdout",
     "output_type": "stream",
     "text": [
      "Connection sucess\n"
     ]
    }
   ],
   "source": [
    "if sftp:\n",
    "    print (\"Connection sucess\")"
   ]
  },
  {
   "cell_type": "code",
   "execution_count": 65,
   "metadata": {},
   "outputs": [
    {
     "data": {
      "text/plain": [
       "'/cislhome/crisuser/ssp/acfout'"
      ]
     },
     "execution_count": 65,
     "metadata": {},
     "output_type": "execute_result"
    }
   ],
   "source": [
    "sftp.getcwd()"
   ]
  },
  {
   "cell_type": "code",
   "execution_count": 66,
   "metadata": {},
   "outputs": [],
   "source": [
    "# sftp.pwd\n",
    "# sftp.listdir()"
   ]
  },
  {
   "cell_type": "code",
   "execution_count": null,
   "metadata": {},
   "outputs": [],
   "source": []
  },
  {
   "cell_type": "code",
   "execution_count": 67,
   "metadata": {},
   "outputs": [
    {
     "name": "stdout",
     "output_type": "stream",
     "text": [
      "first 10 files in the folder:\n",
      "\n",
      "9WACFOUT\n",
      "9WACFOUT_20180301.TXT\n",
      "9WACFOUT_20180401.TXT\n",
      "9WACFOUT_20180501.TXT\n",
      "9WACFOUT_20180601.TXT\n",
      "9WACFOUT_20180701.TXT\n",
      "9WACFOUT_20180801.TXT\n",
      "9WACFOUT_20180901.TXT\n",
      "9WACFOUT_20181001.TXT\n",
      "9WACFOUT_20181101.TXT\n"
     ]
    }
   ],
   "source": [
    "# check if the drive has files\n",
    "\n",
    "num_files_to_show = 10\n",
    "\n",
    "print('first {} files in the folder:\\n'.format(num_files_to_show))\n",
    "\n",
    "for i in sftp.listdir('.')[: num_files_to_show]:\n",
    "    print (i)"
   ]
  },
  {
   "cell_type": "code",
   "execution_count": 68,
   "metadata": {},
   "outputs": [
    {
     "name": "stdout",
     "output_type": "stream",
     "text": [
      "\n",
      "validate remote directory\n",
      "/cislhome/crisuser/ssp/acfout\n",
      "\n",
      "validate local directory\n",
      "\\\\infospace.emirates.com\\newsites\\skywards_finance\\ACFOUT files\n"
     ]
    }
   ],
   "source": [
    "    \n",
    "\n",
    "# validate the directories defined are the ones you need\n",
    "\n",
    "print ('\\nvalidate remote directory')\n",
    "print (sftp.pwd)\n",
    "# print('')\n",
    "print ('\\nvalidate local directory')\n",
    "print (os.getcwd())"
   ]
  },
  {
   "cell_type": "code",
   "execution_count": 69,
   "metadata": {},
   "outputs": [
    {
     "name": "stdout",
     "output_type": "stream",
     "text": [
      "define directories:\n",
      "\n",
      "remote directory: /cislhome/crisuser/ssp/acfout/\n",
      "local directory: ./Files Downloaded for 2022/Files Downloaded on 1 - 2022/\n"
     ]
    }
   ],
   "source": [
    "# format the directories for them to be used as path to download and transfer\n",
    "\n",
    "remote_direct = sftp.pwd + '/'\n",
    "local_direct = str(ab) + '/'\n",
    "\n",
    "\n",
    "# current remote directorry & local dorectory\n",
    "# define path variables\n",
    "\n",
    "\n",
    "print ('define directories:')\n",
    "print ('')\n",
    "print ('remote directory:', remote_direct)\n",
    "\n",
    "print ('local directory:', local_direct)"
   ]
  },
  {
   "cell_type": "code",
   "execution_count": 70,
   "metadata": {},
   "outputs": [],
   "source": [
    "# create a list of all partners \n",
    "\n",
    "list_b = 'AS' # test list\n",
    "\n",
    "list_a = ['EHG','ATLN','CORL','CRWN','HLTN','HYAT','ICH','JBH', 'FAB','MARR','MHG','ONOR','ROTN',\n",
    "'RSAS','SFTL','SGL','RKTM','AAD','CREM','CTOD','DMS','EKH2','GYG','SKI','TFG','TRG','VALR',\n",
    "'AMME','SWED','JLNZ','PNTS','EMAR','BCOM','NAMS','DTAG','ECAR','HRTZ','SIXT','ABG','CTLR','ABK',\n",
    "'ADCB','CAUS','CBBH','CBD','CITI','EIB','ENBD','NBAD','NOOR','SCIN','SCPK','HSUS','ADIB','HSCN',\n",
    "'AXPD','AXPI','DIB','CHSE','SABB','KLGO','AXPZ','HLB','RAK','EBI','EIB','LHRR', 'BUS','HSTW','BUS',\n",
    "'SMAL','CRFE','EOS','HSCN', 'MSLF', 'DOLL', 'MSRF', 'CTRW', 'MASH', 'BILT', 'NAJM', 'HSHK',\n",
    "         'HSTW','UTU','NBK']\n",
    "\n",
    "\n",
    "\n",
    "list_c = ['AS','B6','CM','G3','JL','JQ','KE','MH','MK','QF','S7','SA','TP','PG']\n",
    "\n",
    "list_d = ['EKH']\n",
    "\n"
   ]
  },
  {
   "cell_type": "code",
   "execution_count": null,
   "metadata": {},
   "outputs": [],
   "source": []
  },
  {
   "cell_type": "code",
   "execution_count": 71,
   "metadata": {},
   "outputs": [
    {
     "data": {
      "text/plain": [
       "datetime.date(2022, 1, 4)"
      ]
     },
     "execution_count": 71,
     "metadata": {},
     "output_type": "execute_result"
    }
   ],
   "source": [
    "todaydate = datetime.date.today()\n",
    "\n",
    "todaydate"
   ]
  },
  {
   "cell_type": "code",
   "execution_count": 72,
   "metadata": {},
   "outputs": [
    {
     "data": {
      "text/plain": [
       "datetime.date(2021, 12, 31)"
      ]
     },
     "execution_count": 72,
     "metadata": {},
     "output_type": "execute_result"
    }
   ],
   "source": [
    "lastDayLastMonth = todaydate - datetime.timedelta(days=todaydate.day)\n",
    "\n",
    "lastDayLastMonth"
   ]
  },
  {
   "cell_type": "code",
   "execution_count": 73,
   "metadata": {},
   "outputs": [
    {
     "data": {
      "text/plain": [
       "'./Files Downloaded for 2022/Files Downloaded on 1 - 2022/EHG_ACFOUT_DEC2021.TXT'"
      ]
     },
     "execution_count": 73,
     "metadata": {},
     "output_type": "execute_result"
    }
   ],
   "source": [
    "local_direct + str(\"EHG\") + '_ACFOUT_' + \\\n",
    "                          str.upper(calendar.month_name[lastDayLastMonth.month][:3]) \\\n",
    "                          + str(lastDayLastMonth.year) +'.TXT'"
   ]
  },
  {
   "cell_type": "code",
   "execution_count": 74,
   "metadata": {},
   "outputs": [
    {
     "data": {
      "text/plain": [
       "False"
      ]
     },
     "execution_count": 74,
     "metadata": {},
     "output_type": "execute_result"
    }
   ],
   "source": [
    "os.path.isfile(local_direct + str(\"EHG\") + '_ACFOUT_' + \\\n",
    "                          str.upper(calendar.month_name[lastDayLastMonth.month][:3]) \\\n",
    "                          + str(lastDayLastMonth.year) +'.TXT')"
   ]
  },
  {
   "cell_type": "code",
   "execution_count": 78,
   "metadata": {},
   "outputs": [],
   "source": [
    "# Notes \n",
    "\n",
    "# The SFTP file name has TODAY'S DATE\n",
    "# The sharepoint file has LAST MONTH'S DATE"
   ]
  },
  {
   "cell_type": "code",
   "execution_count": 75,
   "metadata": {},
   "outputs": [
    {
     "name": "stdout",
     "output_type": "stream",
     "text": [
      "Addtional File/s Transferred = 72\n",
      "Total Files in Directory = 72\n"
     ]
    }
   ],
   "source": [
    "# loop through all files in the directory and transnfer each file\n",
    "\n",
    "y = 0\n",
    "for i in sftp.listdir(remote_direct):\n",
    "    for x in list_a:\n",
    "        if os.path.isfile( local_direct + str(x) + '_ACFOUT_' + \n",
    "                          str.upper(calendar.month_name[lastDayLastMonth.month][:3]) \n",
    "                          + str(lastDayLastMonth.year) +'.TXT'):\n",
    "            continue\n",
    "            \n",
    "        if i.find(str(x)) == 0 and fnmatch.fnmatch(i,'*.txt') \\\n",
    "        and str(i[-12:-8])== str(todaydate.year) and \\\n",
    "        (todaydate.month) == int(i[-8:-6]):\n",
    "            \n",
    "            sftp.get(remote_direct + str(i) , local_direct +  str(x) + \n",
    "                         '_ACFOUT_' + str.upper(calendar.month_name[lastDayLastMonth.month][:3]) \\\n",
    "                     + str(lastDayLastMonth.year) +'.txt' )\n",
    "            y = y + 1\n",
    "\n",
    "print ('Addtional File/s Transferred = {}'.format( y))\n",
    "print ('Total Files in Directory = {}'.format(len(os.listdir(local_direct))))\n"
   ]
  },
  {
   "cell_type": "code",
   "execution_count": 76,
   "metadata": {},
   "outputs": [
    {
     "name": "stdout",
     "output_type": "stream",
     "text": [
      "Addtional File/s Transferred = 14\n",
      "Total Files in Directory = 86\n"
     ]
    }
   ],
   "source": [
    "\n",
    "# loop for all AIRLINE partners only, since the suffix is only ywo characters\n",
    "\n",
    "y1 = 0\n",
    "for i1 in sftp.listdir(remote_direct):\n",
    "    for x1 in list_c:\n",
    "        if os.path.isfile( local_direct + str(x1) + '_ACFOUT_' + \n",
    "                          str.upper(calendar.month_name[lastDayLastMonth.month][:3]) \n",
    "                          + str(lastDayLastMonth.year ) +'.TXT'):\n",
    "            continue\n",
    "            \n",
    "        if re.findall('\\\\b{}\\\\b'.format(x1), i1[0:2]) and i1[2:5] == 'ACF' and \\\n",
    "        str(i1[-12:-8])== str(todaydate.year) and (todaydate.month) == int(i1[-8:-6]):\n",
    "            \n",
    "            sftp.get(remote_direct + str(i1) , local_direct + str(x1) + \n",
    "                     '_ACFOUT_' + str.upper(calendar.month_name[lastDayLastMonth.month][:3]) \n",
    "                     + str(lastDayLastMonth.year) +'.txt' )\n",
    "            y1 = y1 + 1\n",
    "\n",
    "print ('Addtional File/s Transferred = {}'.format( y1))\n",
    "print ('Total Files in Directory = {}'.format(len(os.listdir(local_direct))))\n",
    "            \n",
    "\n",
    "# print ('Addtional File/s Transferred = {}'.format( y1))\n",
    "# print ('Total Files in Directory = {}'.format(len(os.listdir(local_direct))))"
   ]
  },
  {
   "cell_type": "code",
   "execution_count": 77,
   "metadata": {},
   "outputs": [
    {
     "name": "stdout",
     "output_type": "stream",
     "text": [
      "Addtional File/s Transferred = 1\n",
      "Total Files in Directory = 87\n"
     ]
    }
   ],
   "source": [
    "\n",
    "# loop for all EKH partner only, since EKH and EKH2 are very similar\n",
    "\n",
    "y1 = 0\n",
    "for i1 in sftp.listdir(remote_direct):\n",
    "    for x1 in list_d:\n",
    "        if os.path.isfile( local_direct + str(x1) + '_ACFOUT_' + \n",
    "                          str.upper(calendar.month_name[lastDayLastMonth.month][:3]) \n",
    "                          + str(lastDayLastMonth.year ) +'.TXT'):\n",
    "            continue\n",
    "            \n",
    "        if re.findall('\\\\b{}\\\\b'.format(x1), i1[0:3]) and i1[3:6] == 'ACF' and \\\n",
    "        str(i1[-12:-8])== str(todaydate.year) and (todaydate.month) == int(i1[-8:-6]):\n",
    "            \n",
    "            sftp.get(remote_direct + str(i1) , local_direct + str(x1) + \n",
    "                     '_ACFOUT_' + str.upper(calendar.month_name[lastDayLastMonth.month][:3]) \n",
    "                     + str(lastDayLastMonth.year) +'.txt' )\n",
    "            y1 = y1 + 1\n",
    "\n",
    "print ('Addtional File/s Transferred = {}'.format( y1))\n",
    "print ('Total Files in Directory = {}'.format(len(os.listdir(local_direct))))\n",
    "            \n",
    "\n",
    "# print ('Addtional File/s Transferred = {}'.format( y1))\n",
    "# print ('Total Files in Directory = {}'.format(len(os.listdir(local_direct))))"
   ]
  },
  {
   "cell_type": "code",
   "execution_count": null,
   "metadata": {},
   "outputs": [],
   "source": []
  },
  {
   "cell_type": "markdown",
   "metadata": {},
   "source": [
    "### Send out the final email"
   ]
  },
  {
   "cell_type": "markdown",
   "metadata": {},
   "source": [
    "## Send Automated Email"
   ]
  },
  {
   "cell_type": "code",
   "execution_count": null,
   "metadata": {},
   "outputs": [],
   "source": [
    "# create a list of all the files that have been transfered for sending an email\n",
    "\n",
    "b = []\n",
    "for i in os.listdir(local_direct):\n",
    "    #a = (i[:-19])\n",
    "    b.append(i)\n",
    "tester = dict((i, b.count(i)) for i in b)\n",
    "email_grid = pd.DataFrame(tester.items(), columns= ['Partner', 'FileTransfer_Count'])\n",
    "email_grid.set_index('Partner', inplace = True)\n",
    "len(email_grid)"
   ]
  },
  {
   "cell_type": "code",
   "execution_count": null,
   "metadata": {},
   "outputs": [],
   "source": [
    "\n",
    "email_grid.sort_index(inplace=True)"
   ]
  },
  {
   "cell_type": "code",
   "execution_count": null,
   "metadata": {
    "scrolled": true
   },
   "outputs": [],
   "source": [
    "# send an email message via outlook\n",
    "\n",
    "# Hard coded email subject\n",
    "MAIL_SUBJECT = 'ACFOUT files transfered to SFTP'\n",
    "\n",
    "# Hard coded email text\n",
    "        \n",
    "MAIL_BODY = 'Dear Team,\\n\\n'\\\n",
    "'The ACFOUT file transfer for {} has been Successful.\\n'.format(calendar.month_name[datetime.datetime.today().month] + str(datetime.datetime.today().year))\n",
    "MAIL_BODY2 = '\\nTotal count of files present in the folder are: {}\\n'.format(len(email_grid))\n",
    "MAIL_BODY3 = '\\nThe number of files transferred can be found in the grid below\\n\\n {}'.format(email_grid)\n",
    "\n",
    "\n",
    "def send_outlook_mail(recipients, subject='No Subject', body='Blank', body2 ='Blank'\n",
    "                      ,body3 = 'Blank',send_or_display='Display', copies=None):\n",
    "    \"\"\"\n",
    "    Send an Outlook Text email\n",
    "    :param recipients: list of recipients' email addresses (list object)\n",
    "    :param subject: subject of the email\n",
    "    :param body: body of the email\n",
    "    :param send_or_display: Send - send email automatically | Display - email gets created user have to click Send\n",
    "    :param copies: list of CCs' email addresses\n",
    "    :return: None\n",
    "    \"\"\"\n",
    "    if len(recipients) > 0 and isinstance(recipient_list, list):\n",
    "        outlook = win32com.client.Dispatch(\"Outlook.Application\")\n",
    "\n",
    "        ol_msg = outlook.CreateItem(0)\n",
    "\n",
    "        str_to = \"\"\n",
    "        for recipient in recipients:\n",
    "            str_to += recipient + \";\"\n",
    "\n",
    "        ol_msg.To = str_to\n",
    "\n",
    "        if copies is not None:\n",
    "            str_cc = \"\"\n",
    "            for cc in copies:\n",
    "                str_cc += cc + \";\"\n",
    "\n",
    "            ol_msg.CC = str_cc\n",
    "\n",
    "        ol_msg.Subject = subject\n",
    "        ol_msg.Body = body + body2 + body3\n",
    "\n",
    "        if send_or_display.upper() == 'SEND':\n",
    "            ol_msg.Send()\n",
    "        else:\n",
    "            ol_msg.Display()\n",
    "    else:\n",
    "        print('Recipient email address - NOT FOUND')\n",
    "\n"
   ]
  },
  {
   "cell_type": "code",
   "execution_count": null,
   "metadata": {},
   "outputs": [],
   "source": [
    "recipient_list = ['sanjeevi.radhakrishnan@emirates.com',\n",
    "                  'jeny.binil@emirates.com','sara.alshamsi@emirates.com',\n",
    "                  'shabeena.aljariri@emirates.com', 'rajani.madhavan@emirates.com',\n",
    "                 'masood.sarang@emirates.com', \n",
    "                  'beatrice.botelho@emirates.com', 'nazrine.nawabjan@emirates.com',\n",
    "                 'skywards.systems@emirates.com' ]\n",
    "copies_list = ['ruchir.varma@emirates.com', 'clyton.dcruz@emirates.com']\n",
    "\n",
    "send_outlook_mail(recipients=recipient_list, subject=MAIL_SUBJECT, body= MAIL_BODY , \n",
    "                  body2= MAIL_BODY2 , body3= MAIL_BODY3, send_or_display='DISPLAY',copies=copies_list)"
   ]
  },
  {
   "cell_type": "code",
   "execution_count": null,
   "metadata": {},
   "outputs": [],
   "source": []
  }
 ],
 "metadata": {
  "kernelspec": {
   "display_name": "Python 3",
   "language": "python",
   "name": "python3"
  },
  "language_info": {
   "codemirror_mode": {
    "name": "ipython",
    "version": 3
   },
   "file_extension": ".py",
   "mimetype": "text/x-python",
   "name": "python",
   "nbconvert_exporter": "python",
   "pygments_lexer": "ipython3",
   "version": "3.8.8"
  }
 },
 "nbformat": 4,
 "nbformat_minor": 4
}
